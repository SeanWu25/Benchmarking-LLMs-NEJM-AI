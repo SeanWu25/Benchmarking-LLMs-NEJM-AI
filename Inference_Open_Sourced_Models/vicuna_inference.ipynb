{
 "cells": [
  {
   "cell_type": "code",
   "execution_count": 1,
   "metadata": {},
   "outputs": [],
   "source": [
    "from llama_cpp import Llama"
   ]
  },
  {
   "cell_type": "code",
   "execution_count": 2,
   "metadata": {},
   "outputs": [
    {
     "name": "stderr",
     "output_type": "stream",
     "text": [
      "AVX = 1 | AVX2 = 1 | AVX512 = 0 | AVX512_VBMI = 0 | AVX512_VNNI = 0 | FMA = 1 | NEON = 0 | ARM_FMA = 0 | F16C = 1 | FP16_VA = 0 | WASM_SIMD = 0 | BLAS = 0 | SSE3 = 1 | VSX = 0 | \n"
     ]
    }
   ],
   "source": [
    "llm = Llama(model_path = \"C:/Users/nirc/Downloads/ggml-vic13b-q5_1.bin\")"
   ]
  },
  {
   "cell_type": "code",
   "execution_count": null,
   "metadata": {},
   "outputs": [],
   "source": [
    "import json\n",
    "idlist = []\n",
    "predictedanswer = []\n",
    "groundtruth = []\n",
    "with open(\"C:/Users/nirc/Downloads/completenephrologydata.json\") as file:\n",
    "    data = json.load(file)\n",
    "\n",
    "for item in data:\n",
    "    #item is the ID\n",
    "    context = \"Context: \" + data[item]['context']\n",
    "    question = \"Question: \" + data[item]['question']\n",
    "    choices = \"Choices (Pick one): \" + str(data[item]['choices'])\n",
    "    answer = data[item]['answer']\n",
    "\n",
    "    idlist.append(item)\n",
    "    groundtruth.append(answer)\n",
    "\n",
    "    combined_string = context + \"\\n\" + question + \"\\n\" + str(choices)\n",
    "        \n",
    "    try:\n",
    "        computeranswer = llm(\n",
    "        combined_string,\n",
    "        echo = True,\n",
    "        )\n",
    "        computeranswer = computeranswer['choices'][0]['text']\n",
    "    except:\n",
    "        print(\"FAILED\")\n",
    "        computeranswer = \"C\"\n",
    "\n",
    "    print(\"THE COMPUTER ANSWER FOR ID: \" + str(item) + \" is \" + computeranswer)\n",
    "    print(\"----------------------------------------------------------------------------------------------\")\n",
    "    predictedanswer.append(computeranswer)\n",
    "\n"
   ]
  },
  {
   "cell_type": "code",
   "execution_count": null,
   "metadata": {},
   "outputs": [],
   "source": [
    "import csv\n",
    "\n",
    "header = ['ID', 'Ground_Truth', 'Vicuna_Output']\n",
    "\n",
    "data = zip(idlist, groundtruth, predictedanswer)\n",
    "\n",
    "filename = 'C:/Users/nirc/Downloads/vicuna_output.csv'\n",
    "\n",
    "with open(filename, 'w', newline='', encoding='utf-8') as csvfile:\n",
    "    writer = csv.writer(csvfile)\n",
    "    writer.writerow(header)\n",
    "    writer.writerows(data)\n",
    "\n",
    "print(f\"Data has been written to {filename} successfully.\")\n"
   ]
  },
  {
   "cell_type": "code",
   "execution_count": null,
   "metadata": {},
   "outputs": [],
   "source": []
  }
 ],
 "metadata": {
  "accelerator": "GPU",
  "colab": {
   "provenance": []
  },
  "kernelspec": {
   "display_name": "Python 3 (ipykernel)",
   "language": "python",
   "name": "python3"
  },
  "language_info": {
   "codemirror_mode": {
    "name": "ipython",
    "version": 3
   },
   "file_extension": ".py",
   "mimetype": "text/x-python",
   "name": "python",
   "nbconvert_exporter": "python",
   "pygments_lexer": "ipython3",
   "version": "3.10.4"
  }
 },
 "nbformat": 4,
 "nbformat_minor": 1
}
